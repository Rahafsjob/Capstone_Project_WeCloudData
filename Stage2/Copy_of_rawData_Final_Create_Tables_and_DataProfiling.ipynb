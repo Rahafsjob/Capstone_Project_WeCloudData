{
  "cells": [
    {
      "cell_type": "markdown",
      "metadata": {
        "id": "view-in-github",
        "colab_type": "text"
      },
      "source": [
        "<a href=\"https://colab.research.google.com/github/Rahafsjob/Capstone_Project_WeCloudData/blob/main/Stage2/Copy_of_rawData_Final_Create_Tables_and_DataProfiling.ipynb\" target=\"_parent\"><img src=\"https://colab.research.google.com/assets/colab-badge.svg\" alt=\"Open In Colab\"/></a>"
      ]
    },
    {
      "cell_type": "markdown",
      "metadata": {
        "id": "yH-AzQarXzfr"
      },
      "source": [
        "# Install libraries"
      ]
    },
    {
      "cell_type": "code",
      "execution_count": null,
      "metadata": {
        "id": "vAIFSg3kW74X"
      },
      "outputs": [],
      "source": [
        "!pip install SQLAlchemy"
      ]
    },
    {
      "cell_type": "code",
      "execution_count": null,
      "metadata": {
        "id": "RyPhKSP1XYj3"
      },
      "outputs": [],
      "source": [
        "!pip install PyMySQL"
      ]
    },
    {
      "cell_type": "markdown",
      "metadata": {
        "id": "mYLe6UMyXwaK"
      },
      "source": [
        "# Make Connection"
      ]
    },
    {
      "cell_type": "code",
      "execution_count": null,
      "metadata": {
        "id": "OgUY_rPuXrYS"
      },
      "outputs": [],
      "source": [
        "from sqlalchemy import create_engine\n",
        "\n",
        "ENDPOINT = \"database-1.cipmeg2oi9nm.us-east-1.rds.amazonaws.com\"\n",
        "PORT = \"3306\"\n",
        "USERNAME = \"admin\"\n",
        "PASSWORD = \"Rahaf123_\"\n",
        "DATABASENAME = \"demo_db\"\n",
        "\n",
        "engine = create_engine(f\"mysql+pymysql://{USERNAME}:{PASSWORD}@{ENDPOINT}:{PORT}/{DATABASENAME}\")"
      ]
    },
    {
      "cell_type": "markdown",
      "metadata": {
        "id": "qHEZmxnlZi9N"
      },
      "source": [
        "# Test Connection"
      ]
    },
    {
      "cell_type": "code",
      "execution_count": null,
      "metadata": {
        "id": "C6M6lQt7ZEtJ"
      },
      "outputs": [],
      "source": [
        "from sqlalchemy import text\n",
        "\n",
        "with engine.connect() as connection:\n",
        "  result = connection.execute(text(\"SHOW TABLES\"))\n",
        "  tables = result.fetchall()\n",
        "  print(tables)"
      ]
    },
    {
      "cell_type": "markdown",
      "metadata": {
        "id": "FgkbYxwlZu5Q"
      },
      "source": [
        "# Create Table"
      ]
    },
    {
      "cell_type": "markdown",
      "metadata": {
        "id": "CNLkFjIVVCgw"
      },
      "source": [
        "## Attendance Table"
      ]
    },
    {
      "cell_type": "code",
      "execution_count": null,
      "metadata": {
        "id": "_62pT1ZoZasv"
      },
      "outputs": [],
      "source": [
        "with engine.connect() as connection:\n",
        "  connection.execute(text(\"DROP TABLE IF EXISTS attendance\"))\n",
        "  connection.execute(text(\"\"\"\n",
        "  CREATE TABLE IF NOT EXISTS attendance (\n",
        "\t  StudentID VARCHAR(15),\n",
        "    attendance_date VARCHAR(70),\n",
        "    attendance_data VARCHAR(5),\n",
        "    course_name VARCHAR(200),\n",
        "    cohort_number VARCHAR(5),\n",
        "    filename VARCHAR(200),\n",
        "    Final_Cohort VARCHAR(100),\n",
        "    level VARCHAR(5)\n",
        "  )\n",
        "  \"\"\"\n",
        "  ))\n",
        "  connection.commit()"
      ]
    },
    {
      "cell_type": "markdown",
      "metadata": {
        "id": "7P-EQ8slVD_G"
      },
      "source": [
        "## Assiements Table"
      ]
    },
    {
      "cell_type": "code",
      "execution_count": null,
      "metadata": {
        "id": "Z_dWQwiEVFRv"
      },
      "outputs": [],
      "source": [
        "with engine.connect() as connection:\n",
        "  connection.execute(text(\"DROP TABLE IF EXISTS assiements\"))\n",
        "  connection.execute(text(\"\"\"\n",
        "  CREATE TABLE IF NOT EXISTS assiements (\n",
        "\t  Student_ID VARCHAR(15),\n",
        "    week1 VARCHAR(20),\n",
        "    week2 VARCHAR(20),\n",
        "    week3 VARCHAR(20),\n",
        "    week4 VARCHAR(20),\n",
        "    week5 VARCHAR(20),\n",
        "    week6 VARCHAR(20),\n",
        "    week7 VARCHAR(20),\n",
        "    final_score float(5),\n",
        "    name VARCHAR(200)\n",
        "  )\n",
        "  \"\"\"\n",
        "  ))\n",
        "  connection.commit()\n"
      ]
    },
    {
      "cell_type": "markdown",
      "metadata": {
        "id": "Vol8KbYjVFrc"
      },
      "source": [
        "## Quizzes Table"
      ]
    },
    {
      "cell_type": "code",
      "execution_count": null,
      "metadata": {
        "id": "25Gslqd6VHmg"
      },
      "outputs": [],
      "source": [
        "with engine.connect() as connection:\n",
        "  connection.execute(text(\"DROP TABLE IF EXISTS Quizzes\"))\n",
        "  connection.execute(text(\"\"\"\n",
        "  CREATE TABLE IF NOT EXISTS Quizzes (\n",
        "\t  Student_ID VARCHAR(15),\n",
        "    Quiz1 float(20),\n",
        "    Quiz2 float(20),\n",
        "    Quiz3 float(20),\n",
        "    Quiz4 float(20),\n",
        "    Quiz5 float(20),\n",
        "    Quiz6 float(20),\n",
        "    Quiz7 float(20),\n",
        "    Quiz8 float(20),\n",
        "    name VARCHAR(300)\n",
        "  )\n",
        "  \"\"\"\n",
        "  ))\n",
        "  connection.commit()\n"
      ]
    },
    {
      "cell_type": "markdown",
      "metadata": {
        "id": "-wR6XvKJofZZ"
      },
      "source": [
        "## Centers Table"
      ]
    },
    {
      "cell_type": "code",
      "execution_count": null,
      "metadata": {
        "id": "bx9GgzYBn323"
      },
      "outputs": [],
      "source": [
        "with engine.connect() as connection:\n",
        "  connection.execute(text(\"DROP TABLE IF EXISTS Centers\"))\n",
        "  connection.execute(text(\"\"\"\n",
        "  CREATE TABLE IF NOT EXISTS Centers (\n",
        "\t  CenterID VARCHAR(10) NOT NULL\n",
        "  )\n",
        "  \"\"\"\n",
        "  ))\n",
        "  connection.commit()"
      ]
    },
    {
      "cell_type": "code",
      "execution_count": null,
      "metadata": {
        "id": "FPJ3mJrHhLmS"
      },
      "outputs": [],
      "source": [
        "import pandas as pd # Import the pandas library and assign it to the alias 'pd'\n"
      ]
    },
    {
      "cell_type": "code",
      "execution_count": null,
      "metadata": {
        "id": "zqSD8kV-ssr1"
      },
      "outputs": [],
      "source": [
        "centers_df = pd.read_csv(\"/content/Centers.csv\")\n",
        "centers_df.head()"
      ]
    },
    {
      "cell_type": "code",
      "execution_count": null,
      "metadata": {
        "id": "BMpKDdzNyUme"
      },
      "outputs": [],
      "source": [
        "import numpy as np\n",
        "df = centers_df.replace({np.nan: None})"
      ]
    },
    {
      "cell_type": "code",
      "execution_count": null,
      "metadata": {
        "id": "EXbMSM6kyZE6"
      },
      "outputs": [],
      "source": [
        "with engine.connect() as connection:\n",
        "  for index, line in centers_df.iterrows():\n",
        "    # Use parameterized queries to avoid SQL injection vulnerabilities and handle quoting issues\n",
        "    query = text(\"\"\"\n",
        "        INSERT INTO Centers (CenterID)\n",
        "        VALUES (:CenterID)\n",
        "    \"\"\")\n",
        "    values = {\n",
        "        'CenterID': line['Center ID']\n",
        "    }\n",
        "    connection.execute(query, values)\n",
        "  connection.commit()"
      ]
    },
    {
      "cell_type": "code",
      "execution_count": null,
      "metadata": {
        "id": "714tRgLiy25k"
      },
      "outputs": [],
      "source": [
        "query = f\"select * from Centers\"\n",
        "centers_df=pd.read_sql(query, engine)\n",
        "centers_df.head()"
      ]
    },
    {
      "cell_type": "markdown",
      "metadata": {
        "id": "khEjNTHyooQ6"
      },
      "source": [
        "## Cohort_Schedule Table"
      ]
    },
    {
      "cell_type": "code",
      "execution_count": null,
      "metadata": {
        "id": "D7u31uaEoonX"
      },
      "outputs": [],
      "source": [
        "with engine.connect() as connection:\n",
        "  connection.execute(text(\"DROP TABLE IF EXISTS Cohort_Schedule\"))\n",
        "  connection.execute(text(\"\"\"\n",
        "  CREATE TABLE IF NOT EXISTS Cohort_Schedule (\n",
        "\t  level INT,\n",
        "    name VARCHAR(255),\n",
        "    cohort VARCHAR(50),\n",
        "    start_date VARCHAR(100),\n",
        "    end_date VARCHAR(100),\n",
        "    dependency VARCHAR(255),\n",
        "    cohort_full_info VARCHAR(255),\n",
        "    start_date_dateformat VARCHAR(100),\n",
        "    end_date_dateformat VARCHAR(100)\n",
        "  )\n",
        "  \"\"\"\n",
        "  ))\n",
        "  connection.commit()"
      ]
    },
    {
      "cell_type": "code",
      "execution_count": null,
      "metadata": {
        "id": "wZUHtbyfz58X"
      },
      "outputs": [],
      "source": [
        "cohort_schedule_df = pd.read_csv(\"/content/Cohort Schedule.tsv\", sep=\"\\t\")\n",
        "cohort_schedule_df.head()"
      ]
    },
    {
      "cell_type": "code",
      "execution_count": null,
      "metadata": {
        "id": "IQs0LX1E0GXJ"
      },
      "outputs": [],
      "source": [
        "import numpy as np\n",
        "cohort_schedule_df = cohort_schedule_df.replace({np.nan: None})"
      ]
    },
    {
      "cell_type": "code",
      "execution_count": null,
      "metadata": {
        "id": "tvDLbS0u0W_Q"
      },
      "outputs": [],
      "source": [
        "with engine.connect() as connection:\n",
        "    for index, line in cohort_schedule_df.iterrows():\n",
        "        query = text(\"\"\"\n",
        "            INSERT INTO Cohort_Schedule (\n",
        "                level, name, cohort, start_date, end_date, dependency,\n",
        "                cohort_full_info, start_date_dateformat, end_date_dateformat\n",
        "            )\n",
        "            VALUES (\n",
        "                :level, :name, :cohort, :start_date, :end_date, :dependency,\n",
        "                :cohort_full_info, :start_date_dateformat, :end_date_dateformat\n",
        "            )\n",
        "        \"\"\")\n",
        "        values = {\n",
        "            'level': line['level'],\n",
        "            'name': line['name'],\n",
        "            'cohort': line['cohort'],\n",
        "            'start_date': line['start_date'],\n",
        "            'end_date': line['end_date'],\n",
        "            'dependency': line['dependency'],\n",
        "            'cohort_full_info': line['cohort_full_info'],\n",
        "            'start_date_dateformat': line['start_date_dateformat'],\n",
        "            'end_date_dateformat': line['end_date_dateformat']\n",
        "        }\n",
        "        connection.execute(query, values)\n",
        "    connection.commit()\n"
      ]
    },
    {
      "cell_type": "markdown",
      "metadata": {
        "id": "IDZzquQ5pmcF"
      },
      "source": [
        "## Student_Status Table"
      ]
    },
    {
      "cell_type": "code",
      "execution_count": null,
      "metadata": {
        "id": "gCMWHb_zosyv"
      },
      "outputs": [],
      "source": [
        "with engine.connect() as connection:\n",
        "  connection.execute(text(\"DROP TABLE IF EXISTS Student_Status\"))\n",
        "  connection.execute(text(\"\"\"\n",
        "  CREATE TABLE IF NOT EXISTS Student_Status (\n",
        "\t  StudentID VARCHAR(10) NOT NULL,\n",
        "    CenterID VARCHAR(10) NOT NULL,\n",
        "    target_level VARCHAR(10)\n",
        "  )\n",
        "  \"\"\"\n",
        "  ))\n",
        "  connection.commit()"
      ]
    },
    {
      "cell_type": "code",
      "execution_count": null,
      "metadata": {
        "id": "RYuXk72B2mmn"
      },
      "outputs": [],
      "source": [
        "student_status_df = pd.read_csv(\"/content/Student Status.csv\")\n",
        "student_status_df.head()"
      ]
    },
    {
      "cell_type": "code",
      "execution_count": null,
      "metadata": {
        "id": "c7idTN405A87"
      },
      "outputs": [],
      "source": [
        "import numpy as np\n",
        "student_status_df = student_status_df.replace({np.nan: None})"
      ]
    },
    {
      "cell_type": "code",
      "execution_count": null,
      "metadata": {
        "id": "GsH4-iEq2Det"
      },
      "outputs": [],
      "source": [
        "with engine.connect() as connection:\n",
        "    for index, line in student_status_df.iterrows():\n",
        "        query = text(\"\"\"\n",
        "            INSERT INTO Student_Status (StudentID, CenterID, target_level)\n",
        "            VALUES (:StudentID, :CenterID, :target_level)\n",
        "        \"\"\")\n",
        "        values = {\n",
        "            'StudentID': line['Student ID'],\n",
        "            'CenterID': line['Center ID'],\n",
        "              'target_level': line['Target Level']\n",
        "        }\n",
        "        connection.execute(query, values)\n",
        "    connection.commit()"
      ]
    },
    {
      "cell_type": "markdown",
      "metadata": {
        "id": "WZynjlappupY"
      },
      "source": [
        "## Change_Requests Table"
      ]
    },
    {
      "cell_type": "code",
      "execution_count": null,
      "metadata": {
        "id": "n50iMqKTpu_V"
      },
      "outputs": [],
      "source": [
        "with engine.connect() as connection:\n",
        "    connection.execute(text(\"DROP TABLE IF EXISTS Change_Requests\"))\n",
        "    connection.execute(text(\"\"\"\n",
        "        CREATE TABLE IF NOT EXISTS Change_Requests (\n",
        "            studentID VARCHAR(20),\n",
        "            centerID VARCHAR(20),\n",
        "            level FLOAT,\n",
        "            name VARCHAR(100),\n",
        "            cohort_affected VARCHAR(20),\n",
        "            request_date VARCHAR(50),\n",
        "            request VARCHAR(100),\n",
        "            reschedule_to VARCHAR(20),\n",
        "            withdraw_reason VARCHAR(300)\n",
        "        )\n",
        "    \"\"\"))\n",
        "    connection.commit()"
      ]
    },
    {
      "cell_type": "code",
      "execution_count": null,
      "metadata": {
        "id": "DwmLW1Bf5hU7"
      },
      "outputs": [],
      "source": [
        "change_requests_df = pd.read_csv(\"/content/Change Requests.tsv\", sep=\"\\t\")\n",
        "change_requests_df.head()"
      ]
    },
    {
      "cell_type": "code",
      "execution_count": null,
      "metadata": {
        "id": "2iPxaxDd5oqP"
      },
      "outputs": [],
      "source": [
        "change_requests_df = change_requests_df.replace({np.nan: None})"
      ]
    },
    {
      "cell_type": "code",
      "execution_count": null,
      "metadata": {
        "id": "LxS8D4IGHHPe"
      },
      "outputs": [],
      "source": [
        "change_requests_df.columns"
      ]
    },
    {
      "cell_type": "code",
      "execution_count": null,
      "metadata": {
        "id": "Gd5hSpUfCGzu"
      },
      "outputs": [],
      "source": [
        "with engine.connect() as connection:\n",
        "    for index, line in change_requests_df.iterrows():\n",
        "        query = text(\"\"\"\n",
        "            INSERT INTO Change_Requests (\n",
        "                studentID, centerID, level, name, cohort_affected, request_date,\n",
        "                request, reschedule_to, withdraw_reason\n",
        "            )\n",
        "            VALUES (\n",
        "                :studentID, :centerID, :level, :name, :cohort_affected, :request_date, :request, :reschedule_to,\n",
        "                :withdraw_reason\n",
        "            )\n",
        "        \"\"\")\n",
        "        values = {\n",
        "            'studentID': line['studentID'],\n",
        "            'centerID': line['centerID'],\n",
        "            'level': line['level'],\n",
        "            'name': line['name'],\n",
        "            'cohort_affected': line['cohort_affected'],\n",
        "            'request_date': line['request_date'],\n",
        "            'request': line['request'],\n",
        "            'reschedule_to': line['reschedule_to'],\n",
        "            'withdraw_reason': line['withdraw_reason']\n",
        "        }\n",
        "        connection.execute(query, values)\n",
        "    connection.commit()"
      ]
    },
    {
      "cell_type": "markdown",
      "metadata": {
        "id": "aJiHWOUGqcPq"
      },
      "source": [
        "## Change_New_Joiners"
      ]
    },
    {
      "cell_type": "code",
      "execution_count": null,
      "metadata": {
        "id": "UGiA8P6OqKu-"
      },
      "outputs": [],
      "source": [
        "with engine.connect() as connection:\n",
        "  connection.execute(text(\"DROP TABLE IF EXISTS Change_New_Joiners\"))\n",
        "  connection.execute(text(\"\"\"\n",
        "  CREATE TABLE IF NOT EXISTS Change_New_Joiners (\n",
        "\t  StudentID VARCHAR(10),\n",
        "    CenterID VARCHAR(10),\n",
        "    title VARCHAR(100),\n",
        "    DateAdded VARCHAR(100),\n",
        "    Type VARCHAR(100)\n",
        "  )\n",
        "  \"\"\"\n",
        "  ))\n",
        "  connection.commit()"
      ]
    },
    {
      "cell_type": "code",
      "execution_count": null,
      "metadata": {
        "id": "qzyaHGjvIIfi"
      },
      "outputs": [],
      "source": [
        "Change_New_Joiners_df = pd.read_csv(\"/content/Change New Joiners.csv\")\n",
        "Change_New_Joiners_df.head()"
      ]
    },
    {
      "cell_type": "code",
      "execution_count": null,
      "metadata": {
        "id": "O35jkIXAJP7G"
      },
      "outputs": [],
      "source": [
        "Change_New_Joiners_df.columns"
      ]
    },
    {
      "cell_type": "code",
      "execution_count": null,
      "metadata": {
        "id": "jaVrcMgtMdNW"
      },
      "outputs": [],
      "source": [
        "Change_New_Joiners_df = Change_New_Joiners_df.replace({np.nan: None})"
      ]
    },
    {
      "cell_type": "code",
      "execution_count": null,
      "metadata": {
        "id": "G1b97SJpIMTR"
      },
      "outputs": [],
      "source": [
        "with engine.connect() as connection:\n",
        "    for index, line in Change_New_Joiners_df.iterrows():\n",
        "        query = text(\"\"\"\n",
        "            INSERT INTO Change_New_Joiners (\n",
        "              StudentID, CenterID, title, DateAdded, Type\n",
        "            )\n",
        "            VALUES (\n",
        "              :StudentID, :CenterID, :title, :DateAdded, :Type\n",
        "            )\n",
        "        \"\"\")\n",
        "        values = {\n",
        "            'StudentID': line['Student ID'],\n",
        "            'CenterID': line['Center ID'],\n",
        "            'title': line['title'],\n",
        "            'DateAdded': line['Date Added'],\n",
        "            'Type': line['Type']\n",
        "        }\n",
        "        connection.execute(query, values)\n",
        "    connection.commit()"
      ]
    },
    {
      "cell_type": "markdown",
      "metadata": {
        "id": "QHhBkAnLqtmx"
      },
      "source": [
        "## Cohort_Assignment Table"
      ]
    },
    {
      "cell_type": "code",
      "execution_count": null,
      "metadata": {
        "id": "sMCdguihqfDe"
      },
      "outputs": [],
      "source": [
        "with engine.connect() as connection:\n",
        "  connection.execute(text(\"DROP TABLE IF EXISTS Cohort_Assignment\"))\n",
        "  connection.execute(text(\"\"\"\n",
        "  CREATE TABLE IF NOT EXISTS Cohort_Assignment (\n",
        "\t  studentID VARCHAR(50),\n",
        "    centerID VARCHAR(50),\n",
        "    level VARCHAR(50),\n",
        "    name VARCHAR(100),\n",
        "    cohort VARCHAR(50),\n",
        "    start_date VARCHAR(100),\n",
        "    end_date VARCHAR(100),\n",
        "    cohort_schedule VARCHAR(100),\n",
        "    cohort_status VARCHAR(50),\n",
        "    enrolment_confirmation VARCHAR(50),\n",
        "    withdraw_reason1 VARCHAR(100),\n",
        "    withdraw_reason2 VARCHAR(100),\n",
        "    level_status_calculated VARCHAR(50),\n",
        "    new_joiner VARCHAR(50),\n",
        "    level_graduation_indicator VARCHAR(50),\n",
        "    attendance_rate VARCHAR(50),\n",
        "    quiz_complete VARCHAR(50),\n",
        "    project_submit VARCHAR(50)\n",
        "  )\n",
        "  \"\"\"\n",
        "  ))\n",
        "  connection.commit()"
      ]
    },
    {
      "cell_type": "code",
      "execution_count": null,
      "metadata": {
        "id": "cl-fYVjPNL7J"
      },
      "outputs": [],
      "source": [
        "Cohort_Assignment_df = pd.read_csv(\"/content/Cohort Assignment.tsv\", sep=\"\\t\")\n",
        "Cohort_Assignment_df.head()"
      ]
    },
    {
      "cell_type": "code",
      "execution_count": null,
      "metadata": {
        "id": "qlJAUaIhNlAX"
      },
      "outputs": [],
      "source": [
        "Cohort_Assignment_df = Cohort_Assignment_df.replace({np.nan: None})"
      ]
    },
    {
      "cell_type": "code",
      "execution_count": null,
      "metadata": {
        "id": "NIZOAZPzNuji"
      },
      "outputs": [],
      "source": [
        "with engine.connect() as connection:\n",
        "    for index, line in Cohort_Assignment_df.iterrows():\n",
        "        query = text(\"\"\"\n",
        "            INSERT INTO Cohort_Assignment (\n",
        "              studentID, centerID, level, name, cohort, start_date, end_date,\n",
        "              cohort_schedule, cohort_status, enrolment_confirmation, withdraw_reason1,\n",
        "              withdraw_reason2, level_status_calculated, new_joiner, level_graduation_indicator,\n",
        "              attendance_rate, quiz_complete, project_submit\n",
        "            )\n",
        "            VALUES (\n",
        "              :studentID, :centerID, :level, :name, :cohort, :start_date, :end_date,\n",
        "              :cohort_schedule, :cohort_status, :enrolment_confirmation, :withdraw_reason1,\n",
        "              :withdraw_reason2, :level_status_calculated, :new_joiner, :level_graduation_indicator,\n",
        "              :attendance_rate, :quiz_complete, :project_submit\n",
        "            )\n",
        "        \"\"\")\n",
        "        values = {\n",
        "            'studentID': line['studentID'],\n",
        "            'centerID': line['centerID'],\n",
        "            'level': line['level'],\n",
        "            'name': line['name'],\n",
        "            'cohort': line['cohort'],\n",
        "            'start_date': line['start'],\n",
        "            'end_date': line['end'],\n",
        "            'cohort_schedule': line['cohort_schedule'],\n",
        "            'cohort_status': line['cohort_status'],\n",
        "            'enrolment_confirmation': line['enrolment_confirmation'],\n",
        "            'withdraw_reason1': line['withdraw_reason1'],\n",
        "            'withdraw_reason2': line['withdraw_reason2'],\n",
        "            'level_status_calculated': line['level_status_calculated'],\n",
        "            'new_joiner': line['new_joiner'],\n",
        "            'level_graduation_indicator': line['level_graduation_indicator'],\n",
        "            'attendance_rate': line['attendance_rate'],\n",
        "            'quiz_complete': line['quiz_complete'],\n",
        "            'project_submit': line['project_submit']\n",
        "        }\n",
        "        connection.execute(query, values)\n",
        "    connection.commit()"
      ]
    },
    {
      "cell_type": "markdown",
      "metadata": {
        "id": "te9qZS01dO9k"
      },
      "source": [
        "# Read Data"
      ]
    },
    {
      "cell_type": "code",
      "execution_count": null,
      "metadata": {
        "id": "s7OwW3B5YHdj"
      },
      "outputs": [],
      "source": [
        "import pandas as pd"
      ]
    },
    {
      "cell_type": "markdown",
      "metadata": {
        "id": "98lj-4-8VKQF"
      },
      "source": [
        "## Attendance Table"
      ]
    },
    {
      "cell_type": "code",
      "execution_count": null,
      "metadata": {
        "id": "qWZYUCPTdQGK"
      },
      "outputs": [],
      "source": [
        "df = pd.read_csv(\"/content/final_attendance_Stage2_with_levels.csv\")\n",
        "df.head()"
      ]
    },
    {
      "cell_type": "code",
      "execution_count": null,
      "metadata": {
        "id": "Mgr0mWEdrXJV"
      },
      "outputs": [],
      "source": [
        "import numpy as np\n",
        "df = df.replace({np.nan: None})"
      ]
    },
    {
      "cell_type": "code",
      "execution_count": null,
      "metadata": {
        "collapsed": true,
        "id": "T2qWgYVhdmRQ"
      },
      "outputs": [],
      "source": [
        "for _, e in df.iterrows():\n",
        "  print(e['StudentID'], e['attendance_date'], e[\"attendance_data\"],\n",
        "        e[\"course_name\"], e[\"cohort_number\"], e[\"filename\"], e[\"Final_Cohort\"], e[\"level\"])"
      ]
    },
    {
      "cell_type": "markdown",
      "metadata": {
        "id": "-WeuuWgPVMMS"
      },
      "source": [
        "## Assiements Table"
      ]
    },
    {
      "cell_type": "code",
      "execution_count": null,
      "metadata": {
        "id": "IOQZ5Dy8VNUU"
      },
      "outputs": [],
      "source": [
        "df_assiements = pd.read_csv(\"/content/assiements.csv\")\n",
        "df_assiements.head()"
      ]
    },
    {
      "cell_type": "code",
      "execution_count": null,
      "metadata": {
        "collapsed": true,
        "id": "OP5uDrtMb8vI"
      },
      "outputs": [],
      "source": [
        "for _, e in df_assiements.iterrows():\n",
        "  print(e['Student_ID'], e['Week1'], e['Week2'], e['Week3'],\n",
        "        e['Week4'], e['Week5'], e['Week6'], e['Week7'], e['Final Score'], e[\"name\"],)"
      ]
    },
    {
      "cell_type": "markdown",
      "metadata": {
        "id": "IHeMWMyxVOWP"
      },
      "source": [
        "## Quizzes Table"
      ]
    },
    {
      "cell_type": "code",
      "execution_count": null,
      "metadata": {
        "id": "qk5WQ61sVPbz"
      },
      "outputs": [],
      "source": [
        "df_Quizzes = pd.read_csv(\"/content/Quizzes.csv\")\n",
        "df_Quizzes.head()"
      ]
    },
    {
      "cell_type": "code",
      "execution_count": null,
      "metadata": {
        "id": "elaOMR7SjOiu"
      },
      "outputs": [],
      "source": [
        "import numpy as np\n",
        "df_Quizzes = df_Quizzes.replace({'Null': None})"
      ]
    },
    {
      "cell_type": "code",
      "execution_count": null,
      "metadata": {
        "collapsed": true,
        "id": "gNp1VDwDdUeK"
      },
      "outputs": [],
      "source": [
        "for _, e in df_Quizzes.iterrows():\n",
        "  print(e['Student_ID'], e['Quiz1'], e['Quiz2'], e['Quiz3'],\n",
        "        e['Quiz4'], e['Quiz5'], e['Quiz6'], e['Quiz7'], e['Quiz8'], e[\"name\"],)"
      ]
    },
    {
      "cell_type": "markdown",
      "metadata": {
        "id": "h1sPvPN7df9r"
      },
      "source": [
        "# Insert data into table"
      ]
    },
    {
      "cell_type": "markdown",
      "metadata": {
        "id": "cyZDlPNZUgPD"
      },
      "source": [
        "## Attendance Table"
      ]
    },
    {
      "cell_type": "code",
      "execution_count": null,
      "metadata": {
        "id": "g6Sfl5GcU19X"
      },
      "outputs": [],
      "source": [
        "with engine.connect() as connection:\n",
        "  for index, line in df.iterrows():\n",
        "    # Use parameterized queries to avoid SQL injection vulnerabilities and handle quoting issues\n",
        "    query = text(\"\"\"\n",
        "        INSERT INTO attendance (StudentID, attendance_date, attendance_data, course_name, cohort_number, filename, Final_Cohort, level)\n",
        "        VALUES (:StudentID, :attendance_date, :attendance_data, :course_name, :cohort_number, :filename , :Final_Cohort, :level)\n",
        "    \"\"\")\n",
        "    # Pass values as a dictionary to the execute method\n",
        "    # Replace NaN values with None before inserting into the database\n",
        "    values = {\n",
        "        'StudentID': line['StudentID'],\n",
        "        'attendance_date': line['attendance_date'],\n",
        "        'attendance_data': line['attendance_data'],\n",
        "        'course_name': line['course_name'],\n",
        "        'cohort_number': line['cohort_number'],\n",
        "        'filename': line['filename'],\n",
        "        'Final_Cohort': line['Final_Cohort'],\n",
        "        'level': line['level']\n",
        "    }\n",
        "    connection.execute(query, values)\n",
        "  connection.commit()"
      ]
    },
    {
      "cell_type": "markdown",
      "metadata": {
        "id": "jGkmafk2UnL9"
      },
      "source": [
        "## Assiements Table"
      ]
    },
    {
      "cell_type": "code",
      "execution_count": null,
      "metadata": {
        "id": "IOY9wIumff-m"
      },
      "outputs": [],
      "source": [
        "with engine.connect() as connection:\n",
        "  for index, line in df_assiements.iterrows():\n",
        "    # Use parameterized queries to avoid SQL injection vulnerabilities and handle quoting issues\n",
        "    query = text(\"\"\"\n",
        "        INSERT INTO assiements (Student_ID, week1, week2, week3, week4, week5, week6, week7, final_score, name)\n",
        "        VALUES (:Student_ID, :week1, :week2, :week3, :week4, :week5, :week6, :week7, :final_score, :name)\n",
        "    \"\"\")\n",
        "    # Pass values as a dictionary to the execute method\n",
        "    # Replace NaN values with None before inserting into the database\n",
        "    values = {\n",
        "        'Student_ID': line['Student_ID'],\n",
        "        'week1': line['Week1'],\n",
        "        'week2': line['Week2'],\n",
        "        'week3': line['Week3'],\n",
        "        'week4': line['Week4'],\n",
        "        'week5': line['Week5'],\n",
        "        'week6': line['Week6'],\n",
        "        'week7': line['Week7'],\n",
        "        'final_score': line['Final Score'],\n",
        "        'name': line['name']\n",
        "    }\n",
        "    connection.execute(query, values)\n",
        "  connection.commit()"
      ]
    },
    {
      "cell_type": "markdown",
      "metadata": {
        "id": "yORmXwKbUu0T"
      },
      "source": [
        "## Quizzes Table"
      ]
    },
    {
      "cell_type": "code",
      "execution_count": null,
      "metadata": {
        "id": "8OSvMcuApRpK"
      },
      "outputs": [],
      "source": [
        "with engine.connect() as connection:\n",
        "  for index, line in df_Quizzes.iterrows():\n",
        "    # Use parameterized queries to avoid SQL injection vulnerabilities and handle quoting issues\n",
        "    query = text(\"\"\"\n",
        "        INSERT INTO Quizzes (Student_ID, Quiz1, Quiz2, Quiz3, Quiz4, Quiz5, Quiz6, Quiz7, Quiz8, name)\n",
        "        VALUES (:Student_ID, :Quiz1, :Quiz2, :Quiz3, :Quiz4, :Quiz5, :Quiz6, :Quiz7, :Quiz8, :name)\n",
        "    \"\"\")\n",
        "    # Pass values as a dictionary to the execute method\n",
        "    # Replace NaN values with None before inserting into the database\n",
        "    values = {\n",
        "        'Student_ID': line['Student_ID'],\n",
        "        'Quiz1': line['Quiz1'],\n",
        "        'Quiz2': line['Quiz2'],\n",
        "        'Quiz3': line['Quiz3'],\n",
        "        'Quiz4': line['Quiz4'],\n",
        "        'Quiz5': line['Quiz5'],\n",
        "        'Quiz6': line['Quiz6'],\n",
        "        'Quiz7': line['Quiz7'],\n",
        "        'Quiz8': line['Quiz8'],\n",
        "        'name': line['name']\n",
        "    }\n",
        "    connection.execute(query, values)\n",
        "  connection.commit()"
      ]
    },
    {
      "cell_type": "markdown",
      "metadata": {
        "id": "Sk_D5OQgteio"
      },
      "source": [
        "# DATAGRIP TABLES"
      ]
    },
    {
      "cell_type": "markdown",
      "metadata": {
        "id": "Z2o5IiXb71IN"
      },
      "source": [
        "### attempts"
      ]
    },
    {
      "cell_type": "code",
      "execution_count": null,
      "metadata": {
        "id": "iMe-2QLMtrTV"
      },
      "outputs": [],
      "source": [
        "with engine.connect() as connection:\n",
        "  connection.execute(text(\"DROP TABLE IF EXISTS attempts\"))\n",
        "  connection.execute(text(\"\"\"\n",
        "  CREATE TABLE IF NOT EXISTS attempts (\n",
        "\t  id INT,\n",
        "    score double,\n",
        "    timer double,\n",
        "    trial varchar(1000),\n",
        "    exam_id varchar (1000),\n",
        "    user_id int,\n",
        "    duration double,\n",
        "    cohort_id varchar(1000),\n",
        "    pauseable varchar(1000),\n",
        "    attempt_id varchar(1000),\n",
        "    created_at datetime,\n",
        "    pool_count int,\n",
        "    material_id int,\n",
        "    resource_id varchar(1000),\n",
        "    question_ids varchar(1000),\n",
        "    submitted_at datetime,\n",
        "    choices_count int,\n",
        "    correct_count double,\n",
        "    cohort_course_id int,\n",
        "    client_id varchar(1000)\n",
        "  )\n",
        "  \"\"\"\n",
        "    ))\n",
        "  connection.commit()"
      ]
    },
    {
      "cell_type": "markdown",
      "metadata": {
        "id": "tTKHMD8x75K3"
      },
      "source": [
        "### chapters"
      ]
    },
    {
      "cell_type": "code",
      "execution_count": null,
      "metadata": {
        "id": "drf-Xnq57C0z"
      },
      "outputs": [],
      "source": [
        "with engine.connect() as connection:\n",
        "  connection.execute(text(\"DROP TABLE IF EXISTS chapters\"))\n",
        "  connection.execute(text(\"\"\"\n",
        "  CREATE TABLE IF NOT EXISTS chapters (\n",
        "\t  id int,\n",
        "    name varchar(1000),\n",
        "    handle varchar(1000),\n",
        "    exam_id varchar(1000),\n",
        "    position int,\n",
        "    published varchar(1000),\n",
        "    created_at datetime,\n",
        "    updated_at datetime,\n",
        "    description varchar(1000),\n",
        "    resource_id varchar(1000),\n",
        "    cohort_course_id int,\n",
        "    client_id varchar(1000)\n",
        "  )\n",
        "  \"\"\"\n",
        "    ))\n",
        "  connection.commit()"
      ]
    },
    {
      "cell_type": "markdown",
      "metadata": {
        "id": "sG2J5DJJ771X"
      },
      "source": [
        "### choices"
      ]
    },
    {
      "cell_type": "code",
      "execution_count": null,
      "metadata": {
        "id": "mOu00KPA78Re"
      },
      "outputs": [],
      "source": [
        "with engine.connect() as connection:\n",
        "  connection.execute(text(\"DROP TABLE IF EXISTS choices\"))\n",
        "  connection.execute(text(\"\"\"\n",
        "  CREATE TABLE IF NOT EXISTS choices (\n",
        "    id int,\n",
        "    grade double,\n",
        "    notes varchar(1000),\n",
        "    choice varchar(1000),\n",
        "    graded varchar(1000),\n",
        "    comment varchar(1000),\n",
        "    correct varchar(1000),\n",
        "    user_id int,\n",
        "    attempt_id int,\n",
        "    question_id int,\n",
        "    client_id varchar(1000)\n",
        "  )\n",
        "  \"\"\"\n",
        "    ))\n",
        "  connection.commit()"
      ]
    },
    {
      "cell_type": "markdown",
      "metadata": {
        "id": "o0hjKf-68uF8"
      },
      "source": [
        "### cohort_course_enrollments"
      ]
    },
    {
      "cell_type": "code",
      "execution_count": null,
      "metadata": {
        "id": "Qg3vWdX98tyj"
      },
      "outputs": [],
      "source": [
        "with engine.connect() as connection:\n",
        "  connection.execute(text(\"DROP TABLE IF EXISTS cohort_course_enrollments\"))\n",
        "  connection.execute(text(\"\"\"\n",
        "  CREATE TABLE IF NOT EXISTS cohort_course_enrollments (\n",
        "\t  id int,\n",
        "    status varchar(1000),\n",
        "    exam_id varchar(1000),\n",
        "    user_id int,\n",
        "    created_at datetime,\n",
        "    cohort_course_id int,\n",
        "    client_id varchar(1000)\n",
        "    )\n",
        "  \"\"\"\n",
        "    ))\n",
        "  connection.commit()"
      ]
    },
    {
      "cell_type": "markdown",
      "metadata": {
        "id": "qHKNrr9w9hxI"
      },
      "source": [
        "### cohort_courses"
      ]
    },
    {
      "cell_type": "code",
      "execution_count": null,
      "metadata": {
        "id": "xNoEGmTS8zq_"
      },
      "outputs": [],
      "source": [
        "with engine.connect() as connection:\n",
        "  connection.execute(text(\"DROP TABLE IF EXISTS cohort_courses\"))\n",
        "  connection.execute(text(\"\"\"\n",
        "  CREATE TABLE IF NOT EXISTS cohort_courses (\n",
        "\t  id int,\n",
        "    name varchar(1000),\n",
        "    weight varchar(1000),\n",
        "    exam_id int,\n",
        "    cohort_id int,\n",
        "    published varchar(1000),\n",
        "    created_at datetime,\n",
        "    resource_id varchar(1000),\n",
        "    description varchar(1000),\n",
        "    client_id varchar(1000)\n",
        "  )\n",
        "  \"\"\"\n",
        "    ))\n",
        "  connection.commit()"
      ]
    },
    {
      "cell_type": "markdown",
      "metadata": {
        "id": "HSSz6kE_9nN-"
      },
      "source": [
        "### cohort_enrollments"
      ]
    },
    {
      "cell_type": "code",
      "execution_count": null,
      "metadata": {
        "id": "nA765vwa9no-"
      },
      "outputs": [],
      "source": [
        "with engine.connect() as connection:\n",
        "  connection.execute(text(\"DROP TABLE IF EXISTS cohort_enrollments\"))\n",
        "  connection.execute(text(\"\"\"\n",
        "  CREATE TABLE IF NOT EXISTS cohort_enrollments (\n",
        "\t  id int,\n",
        "    user_id int,\n",
        "    cohort_id int,\n",
        "    created_at datetime,\n",
        "    portfolio_published varchar(1000),\n",
        "    client_id varchar(1000)\n",
        "  )\n",
        "  \"\"\"\n",
        "    ))\n",
        "  connection.commit()"
      ]
    },
    {
      "cell_type": "markdown",
      "metadata": {
        "id": "7mGt3nhO90WE"
      },
      "source": [
        "### cohorts"
      ]
    },
    {
      "cell_type": "code",
      "execution_count": null,
      "metadata": {
        "id": "pomQsh3D90u6"
      },
      "outputs": [],
      "source": [
        "with engine.connect() as connection:\n",
        "  connection.execute(text(\"DROP TABLE IF EXISTS cohorts\"))\n",
        "  connection.execute(text(\"\"\"\n",
        "  CREATE TABLE IF NOT EXISTS cohorts (\n",
        "\t  id int,\n",
        "    days varchar(1000),\n",
        "    name varchar(1000),\n",
        "    times varchar(1000),\n",
        "    end_date date,\n",
        "    start_date date,\n",
        "    program_id int,\n",
        "    created_at datetime,\n",
        "    resource_id varchar(1000),\n",
        "    cohort_enrollments_count int,\n",
        "    client_id varchar(1000)\n",
        "  )\n",
        "  \"\"\"\n",
        "    ))\n",
        "  connection.commit()"
      ]
    },
    {
      "cell_type": "markdown",
      "metadata": {
        "id": "iodTOUX1-A1m"
      },
      "source": [
        "### handin_attachments"
      ]
    },
    {
      "cell_type": "code",
      "execution_count": null,
      "metadata": {
        "id": "5-a_tZ9r-BXk"
      },
      "outputs": [],
      "source": [
        "with engine.connect() as connection:\n",
        "  connection.execute(text(\"DROP TABLE IF EXISTS handin_attachments\"))\n",
        "  connection.execute(text(\"\"\"\n",
        "  CREATE TABLE IF NOT EXISTS handin_attachments (\n",
        "\t  id int,\n",
        "    s3_key varchar(1000),\n",
        "    user_id int,\n",
        "    filename varchar(1000),\n",
        "    created_at datetime,\n",
        "    user_material_id int,\n",
        "    client_id varchar(1000)\n",
        "  )\n",
        "  \"\"\"\n",
        "    ))\n",
        "  connection.commit()"
      ]
    },
    {
      "cell_type": "markdown",
      "metadata": {
        "id": "TFZEn7Dl-S4I"
      },
      "source": [
        "### materials"
      ]
    },
    {
      "cell_type": "code",
      "execution_count": null,
      "metadata": {
        "id": "ZyscS1yz-TP9"
      },
      "outputs": [],
      "source": [
        "with engine.connect() as connection:\n",
        "  connection.execute(text(\"DROP TABLE IF EXISTS materials\"))\n",
        "  connection.execute(text(\"\"\"\n",
        "  CREATE TABLE IF NOT EXISTS materials (\n",
        "\t  id INT ,\n",
        "    kind VARCHAR(1000),\n",
        "    name VARCHAR(1000),\n",
        "    trial VARCHAR(1000),\n",
        "    handle VARCHAR(1000),\n",
        "    exam_id VARCHAR(1000),\n",
        "    due_date DATETIME,\n",
        "    duration DOUBLE,\n",
        "    position INT,\n",
        "    topic_id INT,\n",
        "    chapter_id DOUBLE,\n",
        "    created_at DATETIME,\n",
        "    cohort_course_id VARCHAR(1000),\n",
        "    client_id VARCHAR(1000)\n",
        "  )\n",
        "  \"\"\"\n",
        "    ))\n",
        "  connection.commit()"
      ]
    },
    {
      "cell_type": "markdown",
      "metadata": {
        "id": "esLmpxI1-1wU"
      },
      "source": [
        "### program_courses"
      ]
    },
    {
      "cell_type": "code",
      "execution_count": null,
      "metadata": {
        "id": "O64mlcsQ-2Et"
      },
      "outputs": [],
      "source": [
        "with engine.connect() as connection:\n",
        "  connection.execute(text(\"DROP TABLE IF EXISTS program_courses\"))\n",
        "  connection.execute(text(\"\"\"\n",
        "  CREATE TABLE IF NOT EXISTS program_courses (\n",
        "    id INT,\n",
        "    exam_id INT,\n",
        "    position DOUBLE,\n",
        "    program_id INT,\n",
        "    resource_id VARCHAR(1000),\n",
        "    created_at DATETIME,\n",
        "    client_id VARCHAR(1000)\n",
        "  )\n",
        "  \"\"\"\n",
        "    ))\n",
        "  connection.commit()"
      ]
    },
    {
      "cell_type": "markdown",
      "metadata": {
        "id": "B-m0Rcs8_opd"
      },
      "source": [
        "### programs"
      ]
    },
    {
      "cell_type": "code",
      "execution_count": null,
      "metadata": {
        "id": "jlN2OcGZ_pFv"
      },
      "outputs": [],
      "source": [
        "with engine.connect() as connection:\n",
        "  connection.execute(text(\"DROP TABLE IF EXISTS programs\"))\n",
        "  connection.execute(text(\"\"\"\n",
        "  CREATE TABLE IF NOT EXISTS programs (\n",
        "    id INT,\n",
        "    kind VARCHAR(1000),\n",
        "    name VARCHAR(1000),\n",
        "    handle VARCHAR(1000),\n",
        "    published VARCHAR(1000),\n",
        "    description VARCHAR(1000),\n",
        "    resource_id VARCHAR(1000),\n",
        "    cohorts_count INT,\n",
        "    free_cohort_id DOUBLE,\n",
        "    organization_id DOUBLE,\n",
        "    program_category_id VARCHAR(1000),\n",
        "    program_courses_count INT,\n",
        "    created_at DATETIME,\n",
        "    client_id VARCHAR(1000)\n",
        "  )\n",
        "  \"\"\"\n",
        "    ))\n",
        "  connection.commit()"
      ]
    },
    {
      "cell_type": "markdown",
      "metadata": {
        "id": "XfOPk--xAeDn"
      },
      "source": [
        "### questions"
      ]
    },
    {
      "cell_type": "code",
      "execution_count": null,
      "metadata": {
        "id": "tJRhEwW3Adt1"
      },
      "outputs": [],
      "source": [
        "with engine.connect() as connection:\n",
        "  connection.execute(text(\"DROP TABLE IF EXISTS questions\"))\n",
        "  connection.execute(text(\"\"\"\n",
        "  CREATE TABLE IF NOT EXISTS questions (\n",
        "    id INT ,\n",
        "    kind VARCHAR(1000) ,\n",
        "    grade DOUBLE ,\n",
        "    trial VARCHAR(1000),\n",
        "    exam_id VARCHAR(1000),\n",
        "    question VARCHAR(1000),\n",
        "    domain_id VARCHAR(1000),\n",
        "    published VARCHAR(1000),\n",
        "    material_id INT,\n",
        "    created_at DATETIME,\n",
        "    client_id VARCHAR(1000)\n",
        "  )\n",
        "  \"\"\"\n",
        "    ))\n",
        "  connection.commit()"
      ]
    },
    {
      "cell_type": "markdown",
      "metadata": {
        "id": "VtQWwDhAAxjc"
      },
      "source": [
        "### topics"
      ]
    },
    {
      "cell_type": "code",
      "execution_count": null,
      "metadata": {
        "id": "CFKCFV0XAxJT"
      },
      "outputs": [],
      "source": [
        "with engine.connect() as connection:\n",
        "  connection.execute(text(\"DROP TABLE IF EXISTS topics\"))\n",
        "  connection.execute(text(\"\"\"\n",
        "  CREATE TABLE IF NOT EXISTS topics (\n",
        "    id INT,\n",
        "    name VARCHAR(1000),\n",
        "    exam_id VARCHAR(1000),\n",
        "    position INT,\n",
        "    published VARCHAR(1000),\n",
        "    chapter_id INT,\n",
        "    resource_id VARCHAR(1000),\n",
        "    cohort_course_id DOUBLE,\n",
        "    created_at DATETIME,\n",
        "    client_id VARCHAR(1000)\n",
        "  )\n",
        "  \"\"\"\n",
        "    ))\n",
        "  connection.commit()"
      ]
    },
    {
      "cell_type": "markdown",
      "metadata": {
        "id": "0zH5fJ1uBQAK"
      },
      "source": [
        "### user_exams"
      ]
    },
    {
      "cell_type": "code",
      "execution_count": null,
      "metadata": {
        "id": "RkmZWQ-SBQaL"
      },
      "outputs": [],
      "source": [
        "with engine.connect() as connection:\n",
        "  connection.execute(text(\"DROP TABLE IF EXISTS user_exams\"))\n",
        "  connection.execute(text(\"\"\"\n",
        "  CREATE TABLE IF NOT EXISTS user_exams (\n",
        "    id INT,\n",
        "    exam_id VARCHAR(1000),\n",
        "    user_id INT,\n",
        "    cohort_course_id INT,\n",
        "    stars_count DOUBLE,\n",
        "    stars_total_count DOUBLE,\n",
        "    created_at DATETIME,\n",
        "    client_id VARCHAR(1000)\n",
        "  )\n",
        "  \"\"\"\n",
        "    ))\n",
        "  connection.commit()"
      ]
    },
    {
      "cell_type": "markdown",
      "metadata": {
        "id": "R-dFngliBxEa"
      },
      "source": [
        "### user_materials"
      ]
    },
    {
      "cell_type": "code",
      "execution_count": null,
      "metadata": {
        "id": "LhZDgpymBwy4"
      },
      "outputs": [],
      "source": [
        "with engine.connect() as connection:\n",
        "  connection.execute(text(\"DROP TABLE IF EXISTS user_materials\"))\n",
        "  connection.execute(text(\"\"\"\n",
        "  CREATE TABLE IF NOT EXISTS user_materials (\n",
        "    id INT,\n",
        "    late VARCHAR(1000),\n",
        "    status VARCHAR(1000),\n",
        "    flashed VARCHAR(1000),\n",
        "    user_id INT,\n",
        "    marked_at VARCHAR(1000),\n",
        "    marking_admin_id DOUBLE,\n",
        "    material_id INT,\n",
        "    handin_attachment_id DOUBLE,\n",
        "    cohort_course_enrollment_id INT,\n",
        "    quiz_results VARCHAR(1000),\n",
        "    quized VARCHAR(1000),\n",
        "    quized_at DATETIME,\n",
        "    user_checked VARCHAR(1000),\n",
        "    grading_notes VARCHAR(1000),\n",
        "    grading_score DOUBLE ,\n",
        "    grading_total VARCHAR(1000),\n",
        "    client_id VARCHAR(1000)\n",
        "  )\n",
        "  \"\"\"\n",
        "    ))\n",
        "  connection.commit()"
      ]
    },
    {
      "cell_type": "markdown",
      "metadata": {
        "id": "ZeQHtWT6Cnhy"
      },
      "source": [
        "### users"
      ]
    },
    {
      "cell_type": "code",
      "execution_count": null,
      "metadata": {
        "id": "yYUprEwRCn5_"
      },
      "outputs": [],
      "source": [
        "with engine.connect() as connection:\n",
        "  connection.execute(text(\"DROP TABLE IF EXISTS users\"))\n",
        "  connection.execute(text(\"\"\"\n",
        "  CREATE TABLE IF NOT EXISTS users (\n",
        "    student_id  VARCHAR(1000),\n",
        "    role  VARCHAR(1000),\n",
        "    client_id VARCHAR(1000),\n",
        "    id INT,\n",
        "    first_name VARCHAR(1000) , -- ?\n",
        "    last_name VARCHAR(1000) , -- ?\n",
        "    email VARCHAR(1000)\n",
        "  )\n",
        "  \"\"\"\n",
        "    ))\n",
        "  connection.commit()"
      ]
    },
    {
      "cell_type": "markdown",
      "metadata": {
        "id": "GuoqbDprrLAI"
      },
      "source": [
        "# DATA PROFILING (BEFORE)"
      ]
    },
    {
      "cell_type": "code",
      "execution_count": null,
      "metadata": {
        "collapsed": true,
        "id": "ZnHmZGfmtXAI"
      },
      "outputs": [],
      "source": [
        "!pip install ydata-profiling pymysql"
      ]
    },
    {
      "cell_type": "code",
      "execution_count": null,
      "metadata": {
        "collapsed": true,
        "id": "z-K8XVbztY6-"
      },
      "outputs": [],
      "source": [
        "!pip install pandasql"
      ]
    },
    {
      "cell_type": "code",
      "execution_count": null,
      "metadata": {
        "id": "Rk1MpkkZtkls"
      },
      "outputs": [],
      "source": [
        "import pandas as pd\n",
        "from sqlalchemy import create_engine\n",
        "from urllib.parse import quote_plus\n",
        "from ydata_profiling import ProfileReport\n",
        "from pandasql import sqldf"
      ]
    },
    {
      "cell_type": "markdown",
      "metadata": {
        "id": "knkFOkLXx-Zf"
      },
      "source": [
        "### attendance"
      ]
    },
    {
      "cell_type": "code",
      "execution_count": null,
      "metadata": {
        "collapsed": true,
        "id": "ILXLqKcZrLaX"
      },
      "outputs": [],
      "source": [
        "query = f\"select * from attendance\"\n",
        "dfataFrame1=pd.read_sql(query, engine)\n",
        "dfataFrame1.head()"
      ]
    },
    {
      "cell_type": "code",
      "execution_count": null,
      "metadata": {
        "collapsed": true,
        "id": "cs-KAGXhrpLA"
      },
      "outputs": [],
      "source": [
        "customer_profile= ProfileReport(dfataFrame1, title=\"attendance Report\")\n",
        "customer_profile.to_file(\"attendance_report.html\")\n",
        "customer_profile.to_notebook_iframe()"
      ]
    },
    {
      "cell_type": "markdown",
      "metadata": {
        "id": "fQz7ZkKAyCtK"
      },
      "source": [
        "### assiements"
      ]
    },
    {
      "cell_type": "code",
      "execution_count": null,
      "metadata": {
        "collapsed": true,
        "id": "gQ0T5uSWvK0Q"
      },
      "outputs": [],
      "source": [
        "query = f\"select * from assiements\"\n",
        "dfataFrame2=pd.read_sql(query, engine)\n",
        "dfataFrame2.head()"
      ]
    },
    {
      "cell_type": "code",
      "execution_count": null,
      "metadata": {
        "collapsed": true,
        "id": "F7nv8VnXvQqY"
      },
      "outputs": [],
      "source": [
        "customer_profile= ProfileReport(dfataFrame2, title=\"assiements Report\")\n",
        "customer_profile.to_file(\"assiements_report.html\")\n",
        "customer_profile.to_notebook_iframe()"
      ]
    },
    {
      "cell_type": "markdown",
      "metadata": {
        "id": "J7rHKsAbyIGR"
      },
      "source": [
        "### Quizzes"
      ]
    },
    {
      "cell_type": "code",
      "execution_count": null,
      "metadata": {
        "collapsed": true,
        "id": "OvGZqGYGwrM_"
      },
      "outputs": [],
      "source": [
        "query = f\"select * from Quizzes\"\n",
        "dfataFrame3=pd.read_sql(query, engine)\n",
        "dfataFrame3.head()"
      ]
    },
    {
      "cell_type": "code",
      "execution_count": null,
      "metadata": {
        "collapsed": true,
        "id": "SDK3ZttkxQbn"
      },
      "outputs": [],
      "source": [
        "customer_profile= ProfileReport(dfataFrame3, title=\"Quizzes Report\")\n",
        "customer_profile.to_file(\"Quizzes_report.html\")\n",
        "customer_profile.to_notebook_iframe()"
      ]
    },
    {
      "cell_type": "markdown",
      "metadata": {
        "id": "3B1mtDhMyM_H"
      },
      "source": [
        "### attempts"
      ]
    },
    {
      "cell_type": "code",
      "execution_count": null,
      "metadata": {
        "collapsed": true,
        "id": "jFk1w9K0xcij"
      },
      "outputs": [],
      "source": [
        "query = f\"select * from attempts\"\n",
        "dfataFrame4=pd.read_sql(query, engine)\n",
        "dfataFrame4.head()"
      ]
    },
    {
      "cell_type": "code",
      "execution_count": null,
      "metadata": {
        "collapsed": true,
        "id": "9PrSa_NRxiyq"
      },
      "outputs": [],
      "source": [
        "customer_profile= ProfileReport(dfataFrame4, title=\"attempts Report\")\n",
        "customer_profile.to_file(\"attempts_report.html\")\n",
        "customer_profile.to_notebook_iframe()"
      ]
    },
    {
      "cell_type": "markdown",
      "metadata": {
        "id": "kR4vawzLygZy"
      },
      "source": [
        "### chapters"
      ]
    },
    {
      "cell_type": "code",
      "execution_count": null,
      "metadata": {
        "collapsed": true,
        "id": "xbeieIBsyhD9"
      },
      "outputs": [],
      "source": [
        "query = f\"select * from chapters\"\n",
        "dfataFrame5=pd.read_sql(query, engine)\n",
        "dfataFrame5.head()"
      ]
    },
    {
      "cell_type": "code",
      "execution_count": null,
      "metadata": {
        "collapsed": true,
        "id": "DhWAaQ9hyhZy"
      },
      "outputs": [],
      "source": [
        "customer_profile= ProfileReport(dfataFrame5, title=\"chapters Report\")\n",
        "customer_profile.to_file(\"chapters_report.html\")\n",
        "customer_profile.to_notebook_iframe()"
      ]
    },
    {
      "cell_type": "markdown",
      "metadata": {
        "id": "gyiqhHAJzCyC"
      },
      "source": [
        "### cohort_course_enrollments"
      ]
    },
    {
      "cell_type": "code",
      "execution_count": null,
      "metadata": {
        "collapsed": true,
        "id": "kIil4aExzCd0"
      },
      "outputs": [],
      "source": [
        "query = f\"select * from cohort_course_enrollments\"\n",
        "dfataFrame6=pd.read_sql(query, engine)\n",
        "dfataFrame6.head()"
      ]
    },
    {
      "cell_type": "code",
      "execution_count": null,
      "metadata": {
        "collapsed": true,
        "id": "U0dQ6hXAzDKF"
      },
      "outputs": [],
      "source": [
        "customer_profile= ProfileReport(dfataFrame6, title=\"cohort_course_enrollments Report\")\n",
        "customer_profile.to_file(\"cohort_course_enrollments_report.html\")\n",
        "customer_profile.to_notebook_iframe()"
      ]
    },
    {
      "cell_type": "markdown",
      "metadata": {
        "id": "6N8hj1F5zsEX"
      },
      "source": [
        "### cohort_courses"
      ]
    },
    {
      "cell_type": "code",
      "execution_count": null,
      "metadata": {
        "collapsed": true,
        "id": "zCzw-4tLzicm"
      },
      "outputs": [],
      "source": [
        "query = f\"select * from cohort_courses\"\n",
        "dfataFrame7=pd.read_sql(query, engine)\n",
        "dfataFrame7.head()"
      ]
    },
    {
      "cell_type": "code",
      "execution_count": null,
      "metadata": {
        "collapsed": true,
        "id": "hKFvTA56zq06"
      },
      "outputs": [],
      "source": [
        "customer_profile= ProfileReport(dfataFrame7, title=\"cohort_courses Report\")\n",
        "customer_profile.to_file(\"cohort_courses.html\")\n",
        "customer_profile.to_notebook_iframe()"
      ]
    },
    {
      "cell_type": "markdown",
      "metadata": {
        "id": "GO4X-t6ZUPUH"
      },
      "source": [
        "### cohort_enrollments"
      ]
    },
    {
      "cell_type": "code",
      "execution_count": null,
      "metadata": {
        "id": "I2IAuB1oUPtk"
      },
      "outputs": [],
      "source": [
        "query = f\"select * from cohort_enrollments\"\n",
        "dfataFrame8=pd.read_sql(query, engine)\n",
        "dfataFrame8.head()"
      ]
    },
    {
      "cell_type": "code",
      "execution_count": null,
      "metadata": {
        "id": "R1y-xsqqUQLz"
      },
      "outputs": [],
      "source": [
        "customer_profile= ProfileReport(dfataFrame8, title=\"cohort_enrollments Report\")\n",
        "customer_profile.to_file(\"cohort_enrollments.html\")\n",
        "customer_profile.to_notebook_iframe()"
      ]
    },
    {
      "cell_type": "markdown",
      "metadata": {
        "id": "EXZ2CqSFUegd"
      },
      "source": [
        "### cohorts"
      ]
    },
    {
      "cell_type": "code",
      "execution_count": null,
      "metadata": {
        "id": "15u9LyGbUfMb"
      },
      "outputs": [],
      "source": [
        "query = f\"select * from cohorts\"\n",
        "dfataFrame9=pd.read_sql(query, engine)\n",
        "dfataFrame9.head()"
      ]
    },
    {
      "cell_type": "code",
      "source": [
        "dfataFrame9.shape"
      ],
      "metadata": {
        "id": "kFolKcrVB5Tm"
      },
      "execution_count": null,
      "outputs": []
    },
    {
      "cell_type": "code",
      "execution_count": null,
      "metadata": {
        "id": "yoaq2ydxUfkB"
      },
      "outputs": [],
      "source": [
        "customer_profile= ProfileReport(dfataFrame9, title=\"cohorts Report\")\n",
        "customer_profile.to_file(\"cohorts.html\")\n",
        "customer_profile.to_notebook_iframe()"
      ]
    },
    {
      "cell_type": "markdown",
      "metadata": {
        "id": "5tVjHVP0U_29"
      },
      "source": [
        "### handin_attachments"
      ]
    },
    {
      "cell_type": "code",
      "execution_count": null,
      "metadata": {
        "id": "06wl31-RVAN-"
      },
      "outputs": [],
      "source": [
        "query = f\"select * from handin_attachments\"\n",
        "dfataFrame10=pd.read_sql(query, engine)\n",
        "dfataFrame10.head()"
      ]
    },
    {
      "cell_type": "code",
      "execution_count": null,
      "metadata": {
        "id": "FMiLFoEZVAtE"
      },
      "outputs": [],
      "source": [
        "customer_profile= ProfileReport(dfataFrame10, title=\"handin_attachments Report\")\n",
        "customer_profile.to_file(\"handin_attachments.html\")\n",
        "customer_profile.to_notebook_iframe()"
      ]
    },
    {
      "cell_type": "markdown",
      "metadata": {
        "id": "B3r7WlvZVQi0"
      },
      "source": [
        "### materials"
      ]
    },
    {
      "cell_type": "code",
      "execution_count": null,
      "metadata": {
        "id": "ntzAW7XpVRPt"
      },
      "outputs": [],
      "source": [
        "query = f\"select * from materials\"\n",
        "dfataFrame11=pd.read_sql(query, engine)\n",
        "dfataFrame11.head()"
      ]
    },
    {
      "cell_type": "code",
      "execution_count": null,
      "metadata": {
        "id": "S9GTTM2OVRl3"
      },
      "outputs": [],
      "source": [
        "customer_profile= ProfileReport(dfataFrame11, title=\"materials Report\")\n",
        "customer_profile.to_file(\"materials.html\")\n",
        "customer_profile.to_notebook_iframe()"
      ]
    },
    {
      "cell_type": "markdown",
      "metadata": {
        "id": "1glkkZiQVqbU"
      },
      "source": [
        "### program_courses"
      ]
    },
    {
      "cell_type": "code",
      "execution_count": null,
      "metadata": {
        "id": "5wQhuFpKVq5K"
      },
      "outputs": [],
      "source": [
        "query = f\"select * from program_courses\"\n",
        "dfataFrame12=pd.read_sql(query, engine)\n",
        "dfataFrame12.head()"
      ]
    },
    {
      "cell_type": "code",
      "execution_count": null,
      "metadata": {
        "id": "Z6vRH8VIVrV1"
      },
      "outputs": [],
      "source": [
        "customer_profile= ProfileReport(dfataFrame12, title=\"program_courses Report\")\n",
        "customer_profile.to_file(\"program_courses.html\")\n",
        "customer_profile.to_notebook_iframe()"
      ]
    },
    {
      "cell_type": "markdown",
      "metadata": {
        "id": "yPUyunAyWPUi"
      },
      "source": [
        "### programs"
      ]
    },
    {
      "cell_type": "code",
      "execution_count": null,
      "metadata": {
        "id": "f_KzIk1dWQB9"
      },
      "outputs": [],
      "source": [
        "query = f\"select * from programs\"\n",
        "dfataFrame13=pd.read_sql(query, engine)\n",
        "dfataFrame13.head()"
      ]
    },
    {
      "cell_type": "code",
      "execution_count": null,
      "metadata": {
        "id": "aUC8D9kWWQWz"
      },
      "outputs": [],
      "source": [
        "customer_profile= ProfileReport(dfataFrame13, title=\"programs Report\")\n",
        "customer_profile.to_file(\"programs.html\")\n",
        "customer_profile.to_notebook_iframe()"
      ]
    },
    {
      "cell_type": "markdown",
      "metadata": {
        "id": "dECBCsuTVzzT"
      },
      "source": [
        "### questions"
      ]
    },
    {
      "cell_type": "code",
      "execution_count": null,
      "metadata": {
        "id": "ClDrVFfpV1cp"
      },
      "outputs": [],
      "source": [
        "query = f\"select * from questions\"\n",
        "dfataFrame14=pd.read_sql(query, engine)\n",
        "dfataFrame14.head()"
      ]
    },
    {
      "cell_type": "code",
      "execution_count": null,
      "metadata": {
        "id": "pp91gCJXV6su"
      },
      "outputs": [],
      "source": [
        "customer_profile= ProfileReport(dfataFrame14, title=\"questions Report\")\n",
        "customer_profile.to_file(\"questions.html\")\n",
        "customer_profile.to_notebook_iframe()"
      ]
    },
    {
      "cell_type": "markdown",
      "metadata": {
        "id": "k5dp0x1xWCQL"
      },
      "source": [
        "### topics"
      ]
    },
    {
      "cell_type": "code",
      "execution_count": null,
      "metadata": {
        "id": "wEWjnDIYWf6Z"
      },
      "outputs": [],
      "source": [
        "query = f\"select * from topics\"\n",
        "dfataFrame15=pd.read_sql(query, engine)\n",
        "dfataFrame15.head()"
      ]
    },
    {
      "cell_type": "code",
      "execution_count": null,
      "metadata": {
        "id": "UXHzQe7BWftX"
      },
      "outputs": [],
      "source": [
        "customer_profile= ProfileReport(dfataFrame15, title=\"topics Report\")\n",
        "customer_profile.to_file(\"topics.html\")\n",
        "customer_profile.to_notebook_iframe()"
      ]
    },
    {
      "cell_type": "markdown",
      "metadata": {
        "id": "8X4NkWD5WwIU"
      },
      "source": [
        "### user_exams"
      ]
    },
    {
      "cell_type": "code",
      "execution_count": null,
      "metadata": {
        "id": "zlpRYUh7WJYJ"
      },
      "outputs": [],
      "source": [
        "query = f\"select * from user_exams\"\n",
        "dfataFrame16=pd.read_sql(query, engine)\n",
        "dfataFrame16.head()"
      ]
    },
    {
      "cell_type": "code",
      "execution_count": null,
      "metadata": {
        "colab": {
          "background_save": true
        },
        "id": "KWoswm48WJy6"
      },
      "outputs": [],
      "source": [
        "customer_profile= ProfileReport(dfataFrame16, title=\"user_exams Report\")\n",
        "customer_profile.to_file(\"user_exams.html\")\n",
        "customer_profile.to_notebook_iframe()"
      ]
    },
    {
      "cell_type": "markdown",
      "metadata": {
        "id": "ffYL98CdW2re"
      },
      "source": [
        "### user_materials"
      ]
    },
    {
      "cell_type": "code",
      "execution_count": null,
      "metadata": {
        "id": "lMjEG8w_W_ln"
      },
      "outputs": [],
      "source": [
        "query = f\"select * from user_materials\"\n",
        "dfataFrame17=pd.read_sql(query, engine)\n",
        "dfataFrame17.head()"
      ]
    },
    {
      "cell_type": "code",
      "execution_count": null,
      "metadata": {
        "colab": {
          "background_save": true
        },
        "id": "kbLYAoBdW_a4"
      },
      "outputs": [],
      "source": [
        "customer_profile= ProfileReport(dfataFrame17, title=\"user_materials Report\")\n",
        "customer_profile.to_file(\"user_materials.html\")\n",
        "customer_profile.to_notebook_iframe()"
      ]
    },
    {
      "cell_type": "markdown",
      "metadata": {
        "id": "PVx9HmZtW4kp"
      },
      "source": [
        "### users"
      ]
    },
    {
      "cell_type": "code",
      "execution_count": null,
      "metadata": {
        "id": "Fq1Sd3CUXAXh"
      },
      "outputs": [],
      "source": [
        "query = f\"select * from users\"\n",
        "dfataFrame18=pd.read_sql(query, engine)\n",
        "dfataFrame18.head()"
      ]
    },
    {
      "cell_type": "code",
      "execution_count": null,
      "metadata": {
        "colab": {
          "background_save": true
        },
        "collapsed": true,
        "id": "4mb0_m7uXAFS"
      },
      "outputs": [],
      "source": [
        "customer_profile= ProfileReport(dfataFrame18, title=\"users Report\")\n",
        "customer_profile.to_file(\"users.html\")\n",
        "customer_profile.to_notebook_iframe()"
      ]
    },
    {
      "cell_type": "markdown",
      "metadata": {
        "id": "hlhb9sItITNx"
      },
      "source": [
        "### Centers"
      ]
    },
    {
      "cell_type": "code",
      "execution_count": null,
      "metadata": {
        "id": "AMy7mzKXIJ8b"
      },
      "outputs": [],
      "source": [
        "query = f\"select * from Centers\"\n",
        "dfataFrame19=pd.read_sql(query, engine)\n",
        "dfataFrame19.head()"
      ]
    },
    {
      "cell_type": "code",
      "execution_count": null,
      "metadata": {
        "id": "YhNXUasRIMMK"
      },
      "outputs": [],
      "source": [
        "customer_profile= ProfileReport(dfataFrame19, title=\"Centers report\")\n",
        "customer_profile.to_file(\"Centers.html\")\n",
        "customer_profile.to_notebook_iframe()"
      ]
    },
    {
      "cell_type": "markdown",
      "metadata": {
        "id": "6DBynExsIZ7h"
      },
      "source": [
        "### Cohort_Schedule"
      ]
    },
    {
      "cell_type": "code",
      "execution_count": null,
      "metadata": {
        "id": "i6gg1E5CIZk3"
      },
      "outputs": [],
      "source": [
        "query = f\"select * from Cohort_Schedule\"\n",
        "dfataFrame20=pd.read_sql(query, engine)\n",
        "dfataFrame20.head()"
      ]
    },
    {
      "cell_type": "code",
      "execution_count": null,
      "metadata": {
        "colab": {
          "background_save": true
        },
        "id": "_QmqktozIkmM"
      },
      "outputs": [],
      "source": [
        "customer_profile= ProfileReport(dfataFrame20, title=\"Cohort Schedule Report\")\n",
        "customer_profile.to_file(\"Cohort Schedule.html\")\n",
        "customer_profile.to_notebook_iframe()"
      ]
    },
    {
      "cell_type": "markdown",
      "metadata": {
        "id": "6J1kmnBLItbG"
      },
      "source": [
        "### Student_Status"
      ]
    },
    {
      "cell_type": "code",
      "execution_count": null,
      "metadata": {
        "id": "rQ71fCylIy9G"
      },
      "outputs": [],
      "source": [
        "query = f\"select * from Student_Status\"\n",
        "dfataFrame21=pd.read_sql(query, engine)\n",
        "dfataFrame21.head()"
      ]
    },
    {
      "cell_type": "code",
      "execution_count": null,
      "metadata": {
        "id": "dYbMeRU2I20k"
      },
      "outputs": [],
      "source": [
        "customer_profile= ProfileReport(dfataFrame21, title=\"Student_Status Report\")\n",
        "customer_profile.to_file(\"Student Status.html\")\n",
        "customer_profile.to_notebook_iframe()"
      ]
    },
    {
      "cell_type": "markdown",
      "metadata": {
        "id": "g_pKwbbiKUkf"
      },
      "source": [
        "### Change_Requests"
      ]
    },
    {
      "cell_type": "code",
      "execution_count": null,
      "metadata": {
        "id": "59Ts7P48KOqC"
      },
      "outputs": [],
      "source": [
        "query = f\"select * from Change_Requests\"\n",
        "dfataFrame22=pd.read_sql(query, engine)\n",
        "dfataFrame22.head()"
      ]
    },
    {
      "cell_type": "code",
      "execution_count": null,
      "metadata": {
        "id": "yq23ML34KSNv"
      },
      "outputs": [],
      "source": [
        "customer_profile= ProfileReport(dfataFrame22, title=\"Change_Requests Report\")\n",
        "customer_profile.to_file(\"Change Requests.html\")\n",
        "customer_profile.to_notebook_iframe()"
      ]
    },
    {
      "cell_type": "markdown",
      "metadata": {
        "id": "gd0DP27gKhKh"
      },
      "source": [
        "### Change_New_Joiners"
      ]
    },
    {
      "cell_type": "code",
      "execution_count": null,
      "metadata": {
        "id": "UT1CEsQUKgVr"
      },
      "outputs": [],
      "source": [
        "query = f\"select * from Change_New_Joiners\"\n",
        "dfataFrame23=pd.read_sql(query, engine)\n",
        "dfataFrame23.head()"
      ]
    },
    {
      "cell_type": "code",
      "execution_count": null,
      "metadata": {
        "id": "OsEJJjCEKkRP"
      },
      "outputs": [],
      "source": [
        "customer_profile= ProfileReport(dfataFrame23, title=\"Change_New_Joiners Report\")\n",
        "customer_profile.to_file(\"ChangeNewJoiners.html\")\n",
        "customer_profile.to_notebook_iframe()"
      ]
    },
    {
      "cell_type": "markdown",
      "metadata": {
        "id": "fOJW1aObKlFt"
      },
      "source": [
        "### Cohort_Assignment"
      ]
    },
    {
      "cell_type": "code",
      "execution_count": null,
      "metadata": {
        "id": "evf0CGZBKll1"
      },
      "outputs": [],
      "source": [
        "query = f\"select * from Cohort_Assignment\"\n",
        "dfataFrame24=pd.read_sql(query, engine)\n",
        "dfataFrame24.head()"
      ]
    },
    {
      "cell_type": "code",
      "execution_count": null,
      "metadata": {
        "colab": {
          "background_save": true
        },
        "id": "24QQ3frAKl8P"
      },
      "outputs": [],
      "source": [
        "customer_profile= ProfileReport(dfataFrame24, title=\"Cohort_Assignment Report\")\n",
        "customer_profile.to_file(\"Cohort_Assignment.html\")\n",
        "customer_profile.to_notebook_iframe()"
      ]
    }
  ],
  "metadata": {
    "colab": {
      "provenance": [],
      "toc_visible": true,
      "include_colab_link": true
    },
    "kernelspec": {
      "display_name": "Python 3",
      "name": "python3"
    },
    "language_info": {
      "name": "python"
    }
  },
  "nbformat": 4,
  "nbformat_minor": 0
}