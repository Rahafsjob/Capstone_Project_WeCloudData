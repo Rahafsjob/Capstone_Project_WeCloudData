{
  "nbformat": 4,
  "nbformat_minor": 0,
  "metadata": {
    "colab": {
      "provenance": [],
      "include_colab_link": true
    },
    "kernelspec": {
      "name": "python3",
      "display_name": "Python 3"
    },
    "language_info": {
      "name": "python"
    }
  },
  "cells": [
    {
      "cell_type": "markdown",
      "metadata": {
        "id": "view-in-github",
        "colab_type": "text"
      },
      "source": [
        "<a href=\"https://colab.research.google.com/github/Rahafsjob/Capstone_Project_WeCloudData/blob/main/Stage2/DataGovernance_Final.ipynb\" target=\"_parent\"><img src=\"https://colab.research.google.com/assets/colab-badge.svg\" alt=\"Open In Colab\"/></a>"
      ]
    },
    {
      "cell_type": "code",
      "execution_count": null,
      "metadata": {
        "colab": {
          "base_uri": "https://localhost:8080/"
        },
        "id": "OKxRA02t4KbR",
        "outputId": "dbb8ed63-f152-4baa-84d7-89dfa6890163"
      },
      "outputs": [
        {
          "output_type": "stream",
          "name": "stdout",
          "text": [
            "Collecting pymysql\n",
            "  Downloading PyMySQL-1.1.1-py3-none-any.whl.metadata (4.4 kB)\n",
            "Downloading PyMySQL-1.1.1-py3-none-any.whl (44 kB)\n",
            "\u001b[?25l   \u001b[90m━━━━━━━━━━━━━━━━━━━━━━━━━━━━━━━━━━━━━━━━\u001b[0m \u001b[32m0.0/45.0 kB\u001b[0m \u001b[31m?\u001b[0m eta \u001b[36m-:--:--\u001b[0m\r\u001b[2K   \u001b[90m━━━━━━━━━━━━━━━━━━━━━━━━━━━━━━━━━━━━━━━━\u001b[0m \u001b[32m45.0/45.0 kB\u001b[0m \u001b[31m1.7 MB/s\u001b[0m eta \u001b[36m0:00:00\u001b[0m\n",
            "\u001b[?25hInstalling collected packages: pymysql\n",
            "Successfully installed pymysql-1.1.1\n"
          ]
        }
      ],
      "source": [
        "!pip install pymysql"
      ]
    },
    {
      "cell_type": "code",
      "source": [
        "!pip install SQLAlchemy"
      ],
      "metadata": {
        "colab": {
          "base_uri": "https://localhost:8080/"
        },
        "id": "BBPZe39Z4iG5",
        "outputId": "ae59c9fc-affd-4e92-84dc-734faa174343"
      },
      "execution_count": null,
      "outputs": [
        {
          "output_type": "stream",
          "name": "stdout",
          "text": [
            "Requirement already satisfied: SQLAlchemy in /usr/local/lib/python3.11/dist-packages (2.0.40)\n",
            "Requirement already satisfied: greenlet>=1 in /usr/local/lib/python3.11/dist-packages (from SQLAlchemy) (3.2.1)\n",
            "Requirement already satisfied: typing-extensions>=4.6.0 in /usr/local/lib/python3.11/dist-packages (from SQLAlchemy) (4.13.2)\n"
          ]
        }
      ]
    },
    {
      "cell_type": "code",
      "source": [
        "import pymysql\n",
        "\n",
        "# Connect to your RDS MySQL instance\n",
        "connection = pymysql.connect(\n",
        "    host='database-1.cipmeg2oi9nm.us-east-1.rds.amazonaws.com',  # ← replace with your RDS host\n",
        "    user='admin',                            # ← replace with your username\n",
        "    password='Rahaf123_',                # ← replace with your password\n",
        "    database='demo_db',                # ← replace with your DB name\n",
        "    port=3306\n",
        ")\n",
        "\n",
        "print(\"✅ Connected to RDS MySQL\")"
      ],
      "metadata": {
        "colab": {
          "base_uri": "https://localhost:8080/"
        },
        "id": "wYDWeiN6447t",
        "outputId": "220a2497-d162-4711-ae7e-76e33377714b"
      },
      "execution_count": null,
      "outputs": [
        {
          "output_type": "stream",
          "name": "stdout",
          "text": [
            "✅ Connected to RDS MySQL\n"
          ]
        }
      ]
    },
    {
      "cell_type": "code",
      "source": [
        "# SQL code for email format validation triggers\n",
        "trigger_code = \"\"\"\n",
        "CREATE TRIGGER validate_email_before_insert\n",
        "BEFORE INSERT ON users\n",
        "FOR EACH ROW\n",
        "BEGIN\n",
        "  IF NEW.email NOT REGEXP '^[A-Za-z0-9._%+-]+@[A-Za-z0-9.-]+\\\\.[A-Za-z]{2,}$' THEN\n",
        "    SIGNAL SQLSTATE '45000'\n",
        "    SET MESSAGE_TEXT = '❌ Invalid email format on INSERT!';\n",
        "  END IF;\n",
        "END //\n",
        "\n",
        "CREATE TRIGGER validate_email_before_update\n",
        "BEFORE UPDATE ON users\n",
        "FOR EACH ROW\n",
        "BEGIN\n",
        "  IF NEW.email NOT REGEXP '^[A-Za-z0-9._%+-]+@[A-Za-z0-9.-]+\\\\.[A-Za-z]{2,}$' THEN\n",
        "    SIGNAL SQLSTATE '45000'\n",
        "    SET MESSAGE_TEXT = '❌ Invalid email format on UPDATE!';\n",
        "  END IF;\n",
        "END //\n",
        "\"\"\""
      ],
      "metadata": {
        "id": "3OkaqgHA4myV"
      },
      "execution_count": null,
      "outputs": []
    },
    {
      "cell_type": "code",
      "source": [
        "# Execute each SQL statement separately\n",
        "with connection.cursor() as cursor:\n",
        "    for statement in trigger_code.split('//'):\n",
        "        if statement.strip():\n",
        "            cursor.execute(statement)\n",
        "\n",
        "connection.commit()\n",
        "connection.close()\n",
        "print(\"✅ Triggers created successfully.\")"
      ],
      "metadata": {
        "colab": {
          "base_uri": "https://localhost:8080/"
        },
        "id": "zcs-k3-U4yAm",
        "outputId": "a9ddb204-a273-4d3a-90be-bf2f62438e9d"
      },
      "execution_count": null,
      "outputs": [
        {
          "output_type": "stream",
          "name": "stdout",
          "text": [
            "✅ Triggers created successfully.\n"
          ]
        }
      ]
    },
    {
      "cell_type": "code",
      "source": [
        "try:\n",
        "    connection = pymysql.connect(\n",
        "        host='demo-rds-mysql-db.csb002k2ask1.us-east-1.rds.amazonaws.com',\n",
        "        user='admin',\n",
        "        password='Shmuokh001*',\n",
        "        database='demo_db',\n",
        "        port=3306\n",
        "    )\n",
        "\n",
        "    with connection.cursor() as cursor:\n",
        "        cursor.execute(\"\"\"\n",
        "            INSERT INTO users (id, email, student_id)\n",
        "            VALUES (9999, 'wrong@@email', 'Stud9999')\n",
        "        \"\"\")\n",
        "    connection.commit()\n",
        "    print(\"❌ This should NOT be printed – trigger failed to block bad email!\")\n",
        "\n",
        "except Exception as e:\n",
        "    print(\"✅ Trigger blocked the insert as expected!\")\n",
        "    print(\"MySQL Error Message:\", e)\n",
        "\n",
        "finally:\n",
        "    connection.close()"
      ],
      "metadata": {
        "colab": {
          "base_uri": "https://localhost:8080/"
        },
        "id": "BP44lHa95O6o",
        "outputId": "fa244c57-21f9-4785-9439-6c3035e5b1db"
      },
      "execution_count": null,
      "outputs": [
        {
          "output_type": "stream",
          "name": "stdout",
          "text": [
            "✅ Trigger blocked the insert as expected!\n",
            "MySQL Error Message: (1644, '❌ Invalid email format on INSERT!')\n"
          ]
        }
      ]
    },
    {
      "cell_type": "code",
      "source": [
        "try:\n",
        "    connection = pymysql.connect(\n",
        "        host='demo-rds-mysql-db.csb002k2ask1.us-east-1.rds.amazonaws.com',\n",
        "        user='admin',\n",
        "        password='Shmuokh001*',\n",
        "        database='demo_db',\n",
        "        port=3306\n",
        "    )\n",
        "\n",
        "    with connection.cursor() as cursor:\n",
        "        cursor.execute(\"\"\"\n",
        "            INSERT INTO users (id, email, student_id)\n",
        "            VALUES (10000, 'correct.email@example.com', 'Stud10000')\n",
        "        \"\"\")\n",
        "    connection.commit()\n",
        "    print(\"✅ Correct email inserted successfully.\")\n",
        "\n",
        "except Exception as e:\n",
        "    print(\"❌ Failed to insert valid email.\")\n",
        "    print(\"MySQL Error Message:\", e)\n",
        "\n",
        "finally:\n",
        "    connection.close()"
      ],
      "metadata": {
        "colab": {
          "base_uri": "https://localhost:8080/"
        },
        "id": "scXf82RS6ARb",
        "outputId": "9921b5b5-1cc5-4ec2-b9ae-5134671e9155"
      },
      "execution_count": null,
      "outputs": [
        {
          "output_type": "stream",
          "name": "stdout",
          "text": [
            "✅ Correct email inserted successfully.\n"
          ]
        }
      ]
    }
  ]
}